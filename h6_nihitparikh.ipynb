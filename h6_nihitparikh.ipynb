{
  "nbformat": 4,
  "nbformat_minor": 0,
  "metadata": {
    "colab": {
      "name": "h6_nihitparikh.ipynb",
      "provenance": [],
      "collapsed_sections": []
    },
    "kernelspec": {
      "name": "python3",
      "display_name": "Python 3"
    },
    "language_info": {
      "name": "python"
    }
  },
  "cells": [
    {
      "cell_type": "markdown",
      "metadata": {
        "id": "SZBxM9mGohqR"
      },
      "source": [
        "## Homework 6 : Nihit Parikh (np24388)"
      ]
    },
    {
      "cell_type": "markdown",
      "metadata": {
        "id": "DPy3HcZtsBHu"
      },
      "source": [
        "##Question 1 "
      ]
    },
    {
      "cell_type": "markdown",
      "metadata": {
        "id": "VS_TQBxNtbpy"
      },
      "source": [
        "function definition: fun1 is a function that takes a non-empty list of numbers and returns the average of those numbers that are greater than zero"
      ]
    },
    {
      "cell_type": "code",
      "metadata": {
        "id": "u6y1HEVusF45"
      },
      "source": [
        "def fun1(num):\n",
        "  total = 0.0\n",
        "  count = 0\n",
        "  for x in num:\n",
        "    if x > 0:\n",
        "      total = total + x\n",
        "      count = count + 1\n",
        "  return total/count"
      ],
      "execution_count": null,
      "outputs": []
    },
    {
      "cell_type": "code",
      "metadata": {
        "colab": {
          "base_uri": "https://localhost:8080/"
        },
        "id": "VV_FpHSss8Ti",
        "outputId": "420ead95-8c75-4dc3-bcb5-1fcd082226eb"
      },
      "source": [
        "fun1([1,2,3,4])"
      ],
      "execution_count": null,
      "outputs": [
        {
          "output_type": "execute_result",
          "data": {
            "text/plain": [
              "2.5"
            ]
          },
          "metadata": {},
          "execution_count": 2
        }
      ]
    },
    {
      "cell_type": "code",
      "metadata": {
        "colab": {
          "base_uri": "https://localhost:8080/"
        },
        "id": "WBAcDsnvtC38",
        "outputId": "d0986b85-40e0-4d98-aece-e382fc9a6a07"
      },
      "source": [
        "fun1([3,0,-3,5,-5])"
      ],
      "execution_count": null,
      "outputs": [
        {
          "output_type": "execute_result",
          "data": {
            "text/plain": [
              "4.0"
            ]
          },
          "metadata": {},
          "execution_count": 3
        }
      ]
    },
    {
      "cell_type": "code",
      "metadata": {
        "colab": {
          "base_uri": "https://localhost:8080/"
        },
        "id": "Z3cGRcxotHlS",
        "outputId": "7c998ff7-4a54-4094-a893-ab312bb55017"
      },
      "source": [
        "fun1([-3,10,0,12,14,-4])"
      ],
      "execution_count": null,
      "outputs": [
        {
          "output_type": "execute_result",
          "data": {
            "text/plain": [
              "12.0"
            ]
          },
          "metadata": {},
          "execution_count": 4
        }
      ]
    },
    {
      "cell_type": "code",
      "metadata": {
        "colab": {
          "base_uri": "https://localhost:8080/"
        },
        "id": "nBMkHCC3tKc0",
        "outputId": "ce7feacf-4738-40db-a3dc-13d6d19d0f48"
      },
      "source": [
        "fun1([1,2,3,0,0,0])"
      ],
      "execution_count": null,
      "outputs": [
        {
          "output_type": "execute_result",
          "data": {
            "text/plain": [
              "2.0"
            ]
          },
          "metadata": {},
          "execution_count": 5
        }
      ]
    },
    {
      "cell_type": "code",
      "metadata": {
        "colab": {
          "base_uri": "https://localhost:8080/"
        },
        "id": "Uo6wzWO0tM-L",
        "outputId": "f749f9d3-ade2-45c5-e15c-c58b005488aa"
      },
      "source": [
        "fun1([100])"
      ],
      "execution_count": null,
      "outputs": [
        {
          "output_type": "execute_result",
          "data": {
            "text/plain": [
              "100.0"
            ]
          },
          "metadata": {},
          "execution_count": 6
        }
      ]
    },
    {
      "cell_type": "markdown",
      "metadata": {
        "id": "Ocp3SOjJvTjh"
      },
      "source": [
        "##Question 2"
      ]
    },
    {
      "cell_type": "markdown",
      "metadata": {
        "id": "mVxm-yskv3um"
      },
      "source": [
        "function definition: fun2 is a function that takes a list of strings and returns a dictionary that represents the counts of each string that occurs in the list. "
      ]
    },
    {
      "cell_type": "code",
      "metadata": {
        "id": "exKxjGAg7_cN"
      },
      "source": [
        "def fun2(ls):\n",
        "  count = {}\n",
        "  for s in ls:\n",
        "    if s in count:\n",
        "      count[s] += 1\n",
        "    else:\n",
        "      count[s] = 1\n",
        "  return count"
      ],
      "execution_count": 32,
      "outputs": []
    },
    {
      "cell_type": "code",
      "metadata": {
        "colab": {
          "base_uri": "https://localhost:8080/"
        },
        "id": "wGXUiT7N9Z-t",
        "outputId": "87cadbf1-0c31-4252-b2fe-298ed3a76cad"
      },
      "source": [
        "fun2([\"chalk\",\"pen\",\"pen\",\"3\",\"4\",\"4\",\"pen\",\"color\"])"
      ],
      "execution_count": 38,
      "outputs": [
        {
          "output_type": "execute_result",
          "data": {
            "text/plain": [
              "{'3': 1, '4': 2, 'chalk': 1, 'color': 1, 'pen': 3}"
            ]
          },
          "metadata": {},
          "execution_count": 38
        }
      ]
    },
    {
      "cell_type": "code",
      "metadata": {
        "colab": {
          "base_uri": "https://localhost:8080/"
        },
        "id": "q4ljfKFc8RJm",
        "outputId": "305036a2-54f8-4558-f3fe-08b64447e783"
      },
      "source": [
        "fun2([\"two\",\"three\",\"three\",\"two\",\"three\",\"one\"])"
      ],
      "execution_count": 33,
      "outputs": [
        {
          "output_type": "execute_result",
          "data": {
            "text/plain": [
              "{'one': 1, 'three': 3, 'two': 2}"
            ]
          },
          "metadata": {},
          "execution_count": 33
        }
      ]
    },
    {
      "cell_type": "code",
      "metadata": {
        "colab": {
          "base_uri": "https://localhost:8080/"
        },
        "id": "jLkdIsTe8oab",
        "outputId": "f9b49dc1-3faa-4fe4-db67-f56af9f78a85"
      },
      "source": [
        "fun2([\"tacos\",\"tacos\",\"chips\",\"queso\",\"queso\"])"
      ],
      "execution_count": 34,
      "outputs": [
        {
          "output_type": "execute_result",
          "data": {
            "text/plain": [
              "{'chips': 1, 'queso': 2, 'tacos': 2}"
            ]
          },
          "metadata": {},
          "execution_count": 34
        }
      ]
    },
    {
      "cell_type": "code",
      "metadata": {
        "colab": {
          "base_uri": "https://localhost:8080/"
        },
        "id": "l3kcQJJH83AL",
        "outputId": "9f257364-6527-4554-8c77-3f5fe7737727"
      },
      "source": [
        "fun2([])"
      ],
      "execution_count": 37,
      "outputs": [
        {
          "output_type": "execute_result",
          "data": {
            "text/plain": [
              "{}"
            ]
          },
          "metadata": {},
          "execution_count": 37
        }
      ]
    }
  ]
}
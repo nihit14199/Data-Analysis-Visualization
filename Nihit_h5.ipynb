{
  "nbformat": 4,
  "nbformat_minor": 0,
  "metadata": {
    "colab": {
      "name": "Nihit_h5.ipynb",
      "provenance": [],
      "collapsed_sections": []
    },
    "kernelspec": {
      "name": "python3",
      "display_name": "Python 3"
    },
    "language_info": {
      "name": "python"
    }
  },
  "cells": [
    {
      "cell_type": "markdown",
      "metadata": {
        "id": "rgvPmRN-isSa"
      },
      "source": [
        "##Nihit Parikh (np24388) : Homework 5"
      ]
    },
    {
      "cell_type": "markdown",
      "metadata": {
        "id": "hbFPZiTxixSO"
      },
      "source": [
        "## Lists"
      ]
    },
    {
      "cell_type": "code",
      "metadata": {
        "id": "WHOgZejdiy-E"
      },
      "source": [
        "L = [2,5,7,3]"
      ],
      "execution_count": 58,
      "outputs": []
    },
    {
      "cell_type": "code",
      "metadata": {
        "id": "EpvXdibUi9Tm"
      },
      "source": [
        "L.append(6)"
      ],
      "execution_count": 59,
      "outputs": []
    },
    {
      "cell_type": "code",
      "metadata": {
        "colab": {
          "base_uri": "https://localhost:8080/"
        },
        "id": "U50Mq2GDjFN5",
        "outputId": "b41c94d4-9e0a-436f-8506-155001d5db0e"
      },
      "source": [
        "L[2]"
      ],
      "execution_count": 60,
      "outputs": [
        {
          "output_type": "execute_result",
          "data": {
            "text/plain": [
              "7"
            ]
          },
          "metadata": {},
          "execution_count": 60
        }
      ]
    },
    {
      "cell_type": "code",
      "metadata": {
        "colab": {
          "base_uri": "https://localhost:8080/"
        },
        "id": "Spwt8PQIjLCZ",
        "outputId": "591c391c-afc1-44b9-9f37-12ba0683073d"
      },
      "source": [
        "L[4]"
      ],
      "execution_count": 61,
      "outputs": [
        {
          "output_type": "execute_result",
          "data": {
            "text/plain": [
              "6"
            ]
          },
          "metadata": {},
          "execution_count": 61
        }
      ]
    },
    {
      "cell_type": "code",
      "metadata": {
        "id": "WA7OFBosjTgt"
      },
      "source": [
        "L.remove(2)"
      ],
      "execution_count": 62,
      "outputs": []
    },
    {
      "cell_type": "code",
      "metadata": {
        "colab": {
          "base_uri": "https://localhost:8080/"
        },
        "id": "OEXuazkujejn",
        "outputId": "6577cd73-e8ce-459c-e565-8424921b2a99"
      },
      "source": [
        "L"
      ],
      "execution_count": 63,
      "outputs": [
        {
          "output_type": "execute_result",
          "data": {
            "text/plain": [
              "[5, 7, 3, 6]"
            ]
          },
          "metadata": {},
          "execution_count": 63
        }
      ]
    },
    {
      "cell_type": "code",
      "metadata": {
        "colab": {
          "base_uri": "https://localhost:8080/"
        },
        "id": "g__Wu0W-jgjC",
        "outputId": "4b1618bd-7139-463b-db94-d23630ea59fc"
      },
      "source": [
        "L[:2]"
      ],
      "execution_count": 64,
      "outputs": [
        {
          "output_type": "execute_result",
          "data": {
            "text/plain": [
              "[5, 7]"
            ]
          },
          "metadata": {},
          "execution_count": 64
        }
      ]
    },
    {
      "cell_type": "code",
      "metadata": {
        "colab": {
          "base_uri": "https://localhost:8080/"
        },
        "id": "N6rHotzzjvXd",
        "outputId": "efcd788f-9cb9-4add-b35a-63bca784cafd"
      },
      "source": [
        "three = L[2]\n",
        "three"
      ],
      "execution_count": 65,
      "outputs": [
        {
          "output_type": "execute_result",
          "data": {
            "text/plain": [
              "3"
            ]
          },
          "metadata": {},
          "execution_count": 65
        }
      ]
    },
    {
      "cell_type": "markdown",
      "metadata": {
        "id": "GA3lDXIwj4N-"
      },
      "source": [
        "## Tuples"
      ]
    },
    {
      "cell_type": "code",
      "metadata": {
        "colab": {
          "base_uri": "https://localhost:8080/"
        },
        "id": "RYShO-aej511",
        "outputId": "769bb319-66e0-4511-fe58-74090bedf837"
      },
      "source": [
        "t = (22,33,44)\n",
        "print(t)"
      ],
      "execution_count": 67,
      "outputs": [
        {
          "output_type": "stream",
          "name": "stdout",
          "text": [
            "(22, 33, 44)\n"
          ]
        }
      ]
    },
    {
      "cell_type": "code",
      "metadata": {
        "colab": {
          "base_uri": "https://localhost:8080/"
        },
        "id": "ncFvjEPVnc8S",
        "outputId": "546572c3-81b2-4743-ddce-626ade32e7a6"
      },
      "source": [
        "t[0]"
      ],
      "execution_count": 68,
      "outputs": [
        {
          "output_type": "execute_result",
          "data": {
            "text/plain": [
              "22"
            ]
          },
          "metadata": {},
          "execution_count": 68
        }
      ]
    },
    {
      "cell_type": "code",
      "metadata": {
        "colab": {
          "base_uri": "https://localhost:8080/"
        },
        "id": "wpHvonjikGiL",
        "outputId": "6b284165-eb91-4440-e2ea-fb06b5497029"
      },
      "source": [
        "type(t)"
      ],
      "execution_count": 69,
      "outputs": [
        {
          "output_type": "execute_result",
          "data": {
            "text/plain": [
              "tuple"
            ]
          },
          "metadata": {},
          "execution_count": 69
        }
      ]
    },
    {
      "cell_type": "code",
      "metadata": {
        "colab": {
          "base_uri": "https://localhost:8080/"
        },
        "id": "F2Nb_1OqkH40",
        "outputId": "7b55cfb6-e1f8-4142-ae8f-25020f24d163"
      },
      "source": [
        "len(t)"
      ],
      "execution_count": 70,
      "outputs": [
        {
          "output_type": "execute_result",
          "data": {
            "text/plain": [
              "3"
            ]
          },
          "metadata": {},
          "execution_count": 70
        }
      ]
    },
    {
      "cell_type": "code",
      "metadata": {
        "id": "kQVdx_2xkdbT"
      },
      "source": [
        "new = (77,88)"
      ],
      "execution_count": 71,
      "outputs": []
    },
    {
      "cell_type": "code",
      "metadata": {
        "colab": {
          "base_uri": "https://localhost:8080/"
        },
        "id": "pz7MWEzwlEl6",
        "outputId": "2d75641c-7d4a-42fe-dde2-1bce313e1764"
      },
      "source": [
        "t = t + new\n",
        "print(t)"
      ],
      "execution_count": 72,
      "outputs": [
        {
          "output_type": "stream",
          "name": "stdout",
          "text": [
            "(22, 33, 44, 77, 88)\n"
          ]
        }
      ]
    },
    {
      "cell_type": "code",
      "metadata": {
        "id": "YWZgCZkRlN8e"
      },
      "source": [
        "nihit_list = list(t)"
      ],
      "execution_count": 73,
      "outputs": []
    },
    {
      "cell_type": "code",
      "metadata": {
        "id": "uksMP-hFmdkY"
      },
      "source": [
        "nihit_list.remove(77)"
      ],
      "execution_count": 74,
      "outputs": []
    },
    {
      "cell_type": "code",
      "metadata": {
        "colab": {
          "base_uri": "https://localhost:8080/"
        },
        "id": "F1ITqA-umo_j",
        "outputId": "790fb825-edbb-4e50-9199-b2e1cf746b31"
      },
      "source": [
        "nihit_list"
      ],
      "execution_count": 75,
      "outputs": [
        {
          "output_type": "execute_result",
          "data": {
            "text/plain": [
              "[22, 33, 44, 88]"
            ]
          },
          "metadata": {},
          "execution_count": 75
        }
      ]
    },
    {
      "cell_type": "code",
      "metadata": {
        "colab": {
          "base_uri": "https://localhost:8080/"
        },
        "id": "sf4GuBMnm2we",
        "outputId": "71dcce21-a18e-4828-8b8b-d6b22a8162e0"
      },
      "source": [
        "nihit_list[3]"
      ],
      "execution_count": 76,
      "outputs": [
        {
          "output_type": "execute_result",
          "data": {
            "text/plain": [
              "88"
            ]
          },
          "metadata": {},
          "execution_count": 76
        }
      ]
    },
    {
      "cell_type": "markdown",
      "metadata": {
        "id": "VhfnjyHdn08m"
      },
      "source": [
        "## Dictionaries"
      ]
    },
    {
      "cell_type": "code",
      "metadata": {
        "colab": {
          "base_uri": "https://localhost:8080/"
        },
        "id": "I2Kgpjkln2gY",
        "outputId": "2018612c-de82-4ebc-d0ec-22a93df44297"
      },
      "source": [
        "y = {'student':50,'teacher':6,'classroom':2}\n",
        "type(y)"
      ],
      "execution_count": 77,
      "outputs": [
        {
          "output_type": "execute_result",
          "data": {
            "text/plain": [
              "dict"
            ]
          },
          "metadata": {},
          "execution_count": 77
        }
      ]
    },
    {
      "cell_type": "code",
      "metadata": {
        "colab": {
          "base_uri": "https://localhost:8080/"
        },
        "id": "l9l6LTlooO5Z",
        "outputId": "c110b803-8373-4405-c5cd-d92f6bab7ae0"
      },
      "source": [
        "y['student']"
      ],
      "execution_count": 78,
      "outputs": [
        {
          "output_type": "execute_result",
          "data": {
            "text/plain": [
              "50"
            ]
          },
          "metadata": {},
          "execution_count": 78
        }
      ]
    },
    {
      "cell_type": "code",
      "metadata": {
        "colab": {
          "base_uri": "https://localhost:8080/"
        },
        "id": "346SQcGBoSFd",
        "outputId": "a4dac7b0-b074-4b56-a42c-6c8ccfa6c7bb"
      },
      "source": [
        "y['printer'] = 7\n",
        "print(y)"
      ],
      "execution_count": 79,
      "outputs": [
        {
          "output_type": "stream",
          "name": "stdout",
          "text": [
            "{'student': 50, 'teacher': 6, 'classroom': 2, 'printer': 7}\n"
          ]
        }
      ]
    },
    {
      "cell_type": "code",
      "metadata": {
        "colab": {
          "base_uri": "https://localhost:8080/"
        },
        "id": "FfSPQf4oo2H_",
        "outputId": "b1e15ffe-952a-49b1-a433-647faa8b2263"
      },
      "source": [
        "y.pop('classroom','not_found')"
      ],
      "execution_count": 80,
      "outputs": [
        {
          "output_type": "execute_result",
          "data": {
            "text/plain": [
              "2"
            ]
          },
          "metadata": {},
          "execution_count": 80
        }
      ]
    },
    {
      "cell_type": "code",
      "metadata": {
        "colab": {
          "base_uri": "https://localhost:8080/"
        },
        "id": "loYCD61dpPv9",
        "outputId": "50a391b7-b5cc-4cd4-9afd-d28efe28eb8c"
      },
      "source": [
        "print(y)"
      ],
      "execution_count": 81,
      "outputs": [
        {
          "output_type": "stream",
          "name": "stdout",
          "text": [
            "{'student': 50, 'teacher': 6, 'printer': 7}\n"
          ]
        }
      ]
    },
    {
      "cell_type": "markdown",
      "metadata": {
        "id": "BwZc5HjfpZob"
      },
      "source": [
        "## Sets"
      ]
    },
    {
      "cell_type": "code",
      "metadata": {
        "colab": {
          "base_uri": "https://localhost:8080/"
        },
        "id": "fJT5mLQopa5I",
        "outputId": "d10ce32a-c8f3-4845-9d41-7be1f3c490e5"
      },
      "source": [
        "myset = {'tomato','potato','basil','garlic'}\n",
        "print(myset)"
      ],
      "execution_count": 82,
      "outputs": [
        {
          "output_type": "stream",
          "name": "stdout",
          "text": [
            "{'tomato', 'basil', 'garlic', 'potato'}\n"
          ]
        }
      ]
    },
    {
      "cell_type": "code",
      "metadata": {
        "colab": {
          "base_uri": "https://localhost:8080/"
        },
        "id": "y_mPw28FqGqE",
        "outputId": "637b066a-6cd6-4650-fb34-0fb737bd5eb4"
      },
      "source": [
        "'tomato' in myset"
      ],
      "execution_count": 83,
      "outputs": [
        {
          "output_type": "execute_result",
          "data": {
            "text/plain": [
              "True"
            ]
          },
          "metadata": {},
          "execution_count": 83
        }
      ]
    },
    {
      "cell_type": "code",
      "metadata": {
        "colab": {
          "base_uri": "https://localhost:8080/"
        },
        "id": "EUn_aT3QqJa8",
        "outputId": "9c283dc2-78bc-4b54-eaf0-745a0e8e1690"
      },
      "source": [
        "myset.add('65')\n",
        "print(myset)"
      ],
      "execution_count": 84,
      "outputs": [
        {
          "output_type": "stream",
          "name": "stdout",
          "text": [
            "{'potato', 'basil', 'garlic', '65', 'tomato'}\n"
          ]
        }
      ]
    },
    {
      "cell_type": "code",
      "metadata": {
        "colab": {
          "base_uri": "https://localhost:8080/"
        },
        "id": "vybbJe7Br7CD",
        "outputId": "610cc84d-08f4-4fda-946b-8bb81085b664"
      },
      "source": [
        "this_tuple = ('93','4')\n",
        "myset.add(this_tuple)\n",
        "print(myset)"
      ],
      "execution_count": 86,
      "outputs": [
        {
          "output_type": "stream",
          "name": "stdout",
          "text": [
            "{'potato', 'basil', 'garlic', '65', 'tomato', ('93', '4')}\n"
          ]
        }
      ]
    },
    {
      "cell_type": "code",
      "metadata": {
        "colab": {
          "base_uri": "https://localhost:8080/"
        },
        "id": "UIF4hmf-sVOq",
        "outputId": "70834a4c-05a2-4ced-d22c-ef8028af7b9a"
      },
      "source": [
        "myset.remove('basil')\n",
        "print(myset)"
      ],
      "execution_count": 87,
      "outputs": [
        {
          "output_type": "stream",
          "name": "stdout",
          "text": [
            "{'potato', 'garlic', '65', 'tomato', ('93', '4')}\n"
          ]
        }
      ]
    },
    {
      "cell_type": "code",
      "metadata": {
        "colab": {
          "base_uri": "https://localhost:8080/"
        },
        "id": "vjm3BjFCs0z0",
        "outputId": "f05a798e-521e-4d8d-9917-1690f271e612"
      },
      "source": [
        "iterator = iter(myset)\n",
        "item1 = next(iterator,None)\n",
        "print(item1)"
      ],
      "execution_count": 88,
      "outputs": [
        {
          "output_type": "stream",
          "name": "stdout",
          "text": [
            "potato\n"
          ]
        }
      ]
    }
  ]
}
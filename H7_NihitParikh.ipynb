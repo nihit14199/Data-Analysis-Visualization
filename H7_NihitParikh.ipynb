{
  "nbformat": 4,
  "nbformat_minor": 0,
  "metadata": {
    "colab": {
      "name": "H7_NihitParikh.ipynb",
      "provenance": [],
      "collapsed_sections": []
    },
    "kernelspec": {
      "name": "python3",
      "display_name": "Python 3"
    },
    "language_info": {
      "name": "python"
    }
  },
  "cells": [
    {
      "cell_type": "markdown",
      "metadata": {
        "id": "eCQGHreTsnMi"
      },
      "source": [
        "# Homework 7"
      ]
    },
    {
      "cell_type": "code",
      "metadata": {
        "id": "35yo8A5YTzR2"
      },
      "source": [
        "import pandas as pd\n",
        "%matplotlib inline"
      ],
      "execution_count": 8,
      "outputs": []
    },
    {
      "cell_type": "code",
      "metadata": {
        "id": "ErhPGS4zT03_"
      },
      "source": [
        "df = pd.read_csv('MKT 382 data 2021 Survey 2.csv', index_col=False)"
      ],
      "execution_count": 9,
      "outputs": []
    },
    {
      "cell_type": "markdown",
      "metadata": {
        "id": "CjjgR6gkrABM"
      },
      "source": [
        "## Preliminaries"
      ]
    },
    {
      "cell_type": "code",
      "metadata": {
        "id": "3KdfysIiVew3"
      },
      "source": [
        "df.columns = [\n",
        "  \"timestamp\",\n",
        "  \"computer\",\n",
        "  \"phone\",\n",
        "  \"sports\",\n",
        "  \"degree\",\n",
        "  \"humor\",\n",
        "  \"R\",\n",
        "  \"SQL\",\n",
        "  \"Python\",\n",
        "  \"programming\",\n",
        "  \"queso\",\n",
        "  \"band\",\n",
        "  \"instructor\",\n",
        "  \"home\",\n",
        "  \"city\",\n",
        "  \"math\",\n",
        "  \"sleep\",\n",
        "  \"late\",\n",
        "  \"vegetarian\",\n",
        "  \"siblings\"\n",
        "]"
      ],
      "execution_count": 10,
      "outputs": []
    },
    {
      "cell_type": "markdown",
      "metadata": {
        "id": "3gmFhFzcrUuH"
      },
      "source": [
        "## Problem 1"
      ]
    },
    {
      "cell_type": "markdown",
      "metadata": {
        "id": "PAnc7ny8rhuo"
      },
      "source": [
        "Generate a data frame (tibble or equivalent) showing the top three `siblings` values (in descending order). "
      ]
    },
    {
      "cell_type": "code",
      "metadata": {
        "id": "BArZbWWRrf_W",
        "colab": {
          "base_uri": "https://localhost:8080/"
        },
        "outputId": "487209c8-795c-446c-ca60-1881f3b6b96c"
      },
      "source": [
        "df['siblings'].nlargest(n=3)"
      ],
      "execution_count": 11,
      "outputs": [
        {
          "output_type": "execute_result",
          "data": {
            "text/plain": [
              "15    6\n",
              "11    4\n",
              "43    4\n",
              "Name: siblings, dtype: int64"
            ]
          },
          "metadata": {},
          "execution_count": 11
        }
      ]
    },
    {
      "cell_type": "markdown",
      "metadata": {
        "id": "JhXuC8PbrkU9"
      },
      "source": [
        "## Problem 2"
      ]
    },
    {
      "cell_type": "markdown",
      "metadata": {
        "id": "GCKLJks8rlvH"
      },
      "source": [
        "Generate a data frame showing the number of survey responses by degree in descending order of those counts."
      ]
    },
    {
      "cell_type": "code",
      "metadata": {
        "id": "uZJ4KRAA7Fzr",
        "colab": {
          "base_uri": "https://localhost:8080/"
        },
        "outputId": "dc47ae35-e12d-47bb-f372-7e5ec9977246"
      },
      "source": [
        "prob2 = df.groupby([\"degree\"]).size()\n",
        "prob2.sort_values(ascending = False)"
      ],
      "execution_count": 12,
      "outputs": [
        {
          "output_type": "execute_result",
          "data": {
            "text/plain": [
              "degree\n",
              "Business                                  22\n",
              "Advertising, communications               19\n",
              "Science or math                            6\n",
              "Liberal arts (languages, history, etc)     4\n",
              "Engineering                                1\n",
              "Economics, policy, government              1\n",
              "dtype: int64"
            ]
          },
          "metadata": {},
          "execution_count": 12
        }
      ]
    },
    {
      "cell_type": "markdown",
      "metadata": {
        "id": "wJfFhwfJrqIo"
      },
      "source": [
        "## Problem 3"
      ]
    },
    {
      "cell_type": "markdown",
      "metadata": {
        "id": "6D1A89Odrsnu"
      },
      "source": [
        "Generate a data frame of the mean instructor greatness responses by degree.  The data frame should be in descending order of mean greatness."
      ]
    },
    {
      "cell_type": "code",
      "metadata": {
        "id": "LwfSE3hP7Hp3",
        "colab": {
          "base_uri": "https://localhost:8080/"
        },
        "outputId": "3c147d49-d034-485f-cf83-db6cdac75104"
      },
      "source": [
        "prob3 = df.groupby([\"degree\"]).instructor.agg(\"mean\")\n",
        "prob3.sort_values(ascending = False)"
      ],
      "execution_count": 13,
      "outputs": [
        {
          "output_type": "execute_result",
          "data": {
            "text/plain": [
              "degree\n",
              "Science or math                           5.000000\n",
              "Liberal arts (languages, history, etc)    5.000000\n",
              "Engineering                               5.000000\n",
              "Economics, policy, government             5.000000\n",
              "Advertising, communications               4.947368\n",
              "Business                                  4.863636\n",
              "Name: instructor, dtype: float64"
            ]
          },
          "metadata": {},
          "execution_count": 13
        }
      ]
    },
    {
      "cell_type": "markdown",
      "metadata": {
        "id": "Oy2OtMYqrwPM"
      },
      "source": [
        "## Problem 4"
      ]
    },
    {
      "cell_type": "markdown",
      "metadata": {
        "id": "G0N8EJU0rxtg"
      },
      "source": [
        "For Business majors, the count of responses by computer type.\n"
      ]
    },
    {
      "cell_type": "code",
      "metadata": {
        "id": "aTc0BQYFwq0n"
      },
      "source": [
        "prob4 = df.loc[df['degree'] == \"Business\"]"
      ],
      "execution_count": 14,
      "outputs": []
    },
    {
      "cell_type": "code",
      "metadata": {
        "colab": {
          "base_uri": "https://localhost:8080/"
        },
        "id": "cr9zi3QJ_nhU",
        "outputId": "90a532b2-2a52-4a3d-b75c-6a79e4946c65"
      },
      "source": [
        "prob4.groupby([\"computer\"]).size()"
      ],
      "execution_count": 15,
      "outputs": [
        {
          "output_type": "execute_result",
          "data": {
            "text/plain": [
              "computer\n",
              "Mac           11\n",
              "Windows PC    11\n",
              "dtype: int64"
            ]
          },
          "metadata": {},
          "execution_count": 15
        }
      ]
    },
    {
      "cell_type": "markdown",
      "metadata": {
        "id": "nWVdPITbr3Hw"
      },
      "source": [
        "## Problem 5"
      ]
    },
    {
      "cell_type": "markdown",
      "metadata": {
        "id": "RrKbDLcwr5n-"
      },
      "source": [
        "For Business majors with Macs, the mean number of siblings by queso."
      ]
    },
    {
      "cell_type": "code",
      "metadata": {
        "id": "k5Z00vZirw-e"
      },
      "source": [
        "prob5 = df[(df[\"degree\"] == \"Business\") & (df[\"computer\"]== \"Mac\")]"
      ],
      "execution_count": 16,
      "outputs": []
    },
    {
      "cell_type": "code",
      "metadata": {
        "colab": {
          "base_uri": "https://localhost:8080/"
        },
        "id": "opyD3BxXBGM2",
        "outputId": "7ee3c8fa-7f73-4ee9-fcfc-3b3df6858a22"
      },
      "source": [
        "prob5.groupby(\"queso\").siblings.agg(\"mean\")"
      ],
      "execution_count": 17,
      "outputs": [
        {
          "output_type": "execute_result",
          "data": {
            "text/plain": [
              "queso\n",
              "Kirby Lane's    2.0\n",
              "Torchy's        2.6\n",
              "Name: siblings, dtype: float64"
            ]
          },
          "metadata": {},
          "execution_count": 17
        }
      ]
    },
    {
      "cell_type": "markdown",
      "metadata": {
        "id": "oEcNXWqTr_Fe"
      },
      "source": [
        "## Problem 6"
      ]
    },
    {
      "cell_type": "markdown",
      "metadata": {
        "id": "BgOzklZFr-yQ"
      },
      "source": [
        "Consider a strange metric that is `math+instructor`. This metric, which of course is the\n",
        "sum of the \"how much you like math\" response and the \"how great is the instructor response\",\n",
        "might have tremendous predictive value. Let's investigate.\n",
        "\n",
        "Compute the mean value of this metric by `computer` value.\n"
      ]
    },
    {
      "cell_type": "code",
      "metadata": {
        "id": "qXNOXWY5sFmf"
      },
      "source": [
        "def my_metric(m,i):\n",
        "  return m + i"
      ],
      "execution_count": 18,
      "outputs": []
    },
    {
      "cell_type": "code",
      "metadata": {
        "id": "pFNhJ9wdCvZv"
      },
      "source": [
        "df[\"math_instructor\"] = my_metric(df[\"math\"], df[\"instructor\"])"
      ],
      "execution_count": 19,
      "outputs": []
    },
    {
      "cell_type": "code",
      "metadata": {
        "colab": {
          "base_uri": "https://localhost:8080/"
        },
        "id": "N3J7rivq2fa1",
        "outputId": "fa5ed722-fb04-4848-c730-b83bf7bb3c4a"
      },
      "source": [
        "df.groupby(\"computer\").math_instructor.agg(\"mean\")"
      ],
      "execution_count": 20,
      "outputs": [
        {
          "output_type": "execute_result",
          "data": {
            "text/plain": [
              "computer\n",
              "Both PC and Mac    8.000000\n",
              "Mac                8.085714\n",
              "Windows PC         7.944444\n",
              "Name: math_instructor, dtype: float64"
            ]
          },
          "metadata": {},
          "execution_count": 20
        }
      ]
    },
    {
      "cell_type": "markdown",
      "metadata": {
        "id": "0LYn0OnLsGe1"
      },
      "source": [
        "## Problem 7"
      ]
    },
    {
      "cell_type": "markdown",
      "metadata": {
        "id": "gsAjCVgKsI7m"
      },
      "source": [
        "Using [`.hist()`](https://pandas.pydata.org/pandas-docs/stable/reference/api/pandas.DataFrame.hist.html) or some other technique, generate a histogram of the `math+instructor` values."
      ]
    },
    {
      "cell_type": "code",
      "metadata": {
        "id": "1tLJUiJ9sHqv",
        "colab": {
          "base_uri": "https://localhost:8080/",
          "height": 283
        },
        "outputId": "bbb010a5-f82b-49b8-e058-67c3d1a084d6"
      },
      "source": [
        "df.math_instructor.hist()"
      ],
      "execution_count": 21,
      "outputs": [
        {
          "output_type": "execute_result",
          "data": {
            "text/plain": [
              "<matplotlib.axes._subplots.AxesSubplot at 0x7f7dd1ca5650>"
            ]
          },
          "metadata": {},
          "execution_count": 21
        },
        {
          "output_type": "display_data",
          "data": {
            "image/png": "[encoded data removed]",
            "text/plain": [
              "<Figure size 432x288 with 1 Axes>"
            ]
          },
          "metadata": {
            "needs_background": "light"
          }
        }
      ]
    },
    {
      "cell_type": "markdown",
      "metadata": {
        "id": "_lmKs1XushZ4"
      },
      "source": [
        "## Problem 8"
      ]
    },
    {
      "cell_type": "markdown",
      "metadata": {
        "id": "NERiByzesi49"
      },
      "source": [
        "For responses reporting one or two siblings, count votes for each `queso`."
      ]
    },
    {
      "cell_type": "code",
      "metadata": {
        "id": "9mmw7DihsicY",
        "colab": {
          "base_uri": "https://localhost:8080/"
        },
        "outputId": "1d044c01-cf56-41f1-efb5-62d6fff464c4"
      },
      "source": [
        "king_queso = df.query(\"siblings == 1 | siblings == 2\")\n",
        "king_queso.groupby([\"queso\"]).size()"
      ],
      "execution_count": 23,
      "outputs": [
        {
          "output_type": "execute_result",
          "data": {
            "text/plain": [
              "queso\n",
              "Kirby Lane's     8\n",
              "Torchy's        31\n",
              "dtype: int64"
            ]
          },
          "metadata": {},
          "execution_count": 23
        }
      ]
    }
  ]
}
{
  "nbformat": 4,
  "nbformat_minor": 0,
  "metadata": {
    "colab": {
      "name": "Nihit_H8.ipynb",
      "provenance": [],
      "collapsed_sections": []
    },
    "kernelspec": {
      "name": "python3",
      "display_name": "Python 3"
    },
    "language_info": {
      "name": "python"
    }
  },
  "cells": [
    {
      "cell_type": "markdown",
      "metadata": {
        "id": "eCQGHreTsnMi"
      },
      "source": [
        "# Homework 8 - Nihit Parikh"
      ]
    },
    {
      "cell_type": "markdown",
      "metadata": {
        "id": "5_HSEjtAuA9b"
      },
      "source": [
        "## Preliminaries"
      ]
    },
    {
      "cell_type": "markdown",
      "metadata": {
        "id": "K3cljo7Ytf8P"
      },
      "source": [
        "Download [this version](https://utexas.instructure.com/courses/1319193/files/folder/Data?preview=63145828) of our survey data with reasonable column names in the header line.  Then upload it (if using Colab) so that the follow code works.  If you are using Jupyter, could can use `read_csv()` directly after downloading the data."
      ]
    },
    {
      "cell_type": "code",
      "metadata": {
        "id": "EpF2UsDwB-xI"
      },
      "source": [
        "%load_ext sql"
      ],
      "execution_count": 1,
      "outputs": []
    },
    {
      "cell_type": "code",
      "metadata": {
        "colab": {
          "base_uri": "https://localhost:8080/",
          "height": 35
        },
        "id": "OYnDQXtICdcT",
        "outputId": "ba127530-4396-4f9e-a245-528555301c90"
      },
      "source": [
        "%sql sqlite://"
      ],
      "execution_count": 2,
      "outputs": [
        {
          "output_type": "execute_result",
          "data": {
            "application/vnd.google.colaboratory.intrinsic+json": {
              "type": "string"
            },
            "text/plain": [
              "'Connected: @None'"
            ]
          },
          "metadata": {},
          "execution_count": 2
        }
      ]
    },
    {
      "cell_type": "code",
      "metadata": {
        "id": "_vS4tBSr0tBW"
      },
      "source": [
        "import pandas as pd"
      ],
      "execution_count": 3,
      "outputs": []
    },
    {
      "cell_type": "code",
      "metadata": {
        "id": "8OLhve4z3Fps"
      },
      "source": [
        "survey = pd.read_csv(\"survey.csv\")"
      ],
      "execution_count": 4,
      "outputs": []
    },
    {
      "cell_type": "code",
      "metadata": {
        "colab": {
          "base_uri": "https://localhost:8080/",
          "height": 53
        },
        "id": "DtnEgwXT3H6c",
        "outputId": "fdd1327a-81f8-41e3-c514-ed4f236b57c4"
      },
      "source": [
        "%sql persist survey"
      ],
      "execution_count": 5,
      "outputs": [
        {
          "output_type": "stream",
          "name": "stdout",
          "text": [
            " * sqlite://\n"
          ]
        },
        {
          "output_type": "execute_result",
          "data": {
            "application/vnd.google.colaboratory.intrinsic+json": {
              "type": "string"
            },
            "text/plain": [
              "'Persisted survey'"
            ]
          },
          "metadata": {},
          "execution_count": 5
        }
      ]
    },
    {
      "cell_type": "code",
      "metadata": {
        "colab": {
          "base_uri": "https://localhost:8080/",
          "height": 97
        },
        "id": "2XVV-_TNt88X",
        "outputId": "f3e751a2-5eab-46ed-89f1-4cb12b058b8e"
      },
      "source": [
        "%%sql\n",
        "SELECT COUNT(*) FROM survey"
      ],
      "execution_count": 6,
      "outputs": [
        {
          "output_type": "stream",
          "name": "stdout",
          "text": [
            " * sqlite://\n",
            "Done.\n"
          ]
        },
        {
          "output_type": "execute_result",
          "data": {
            "text/html": [
              "<table>\n",
              "    <thead>\n",
              "        <tr>\n",
              "            <th>COUNT(*)</th>\n",
              "        </tr>\n",
              "    </thead>\n",
              "    <tbody>\n",
              "        <tr>\n",
              "            <td>54</td>\n",
              "        </tr>\n",
              "    </tbody>\n",
              "</table>"
            ],
            "text/plain": [
              "[(54,)]"
            ]
          },
          "metadata": {},
          "execution_count": 6
        }
      ]
    },
    {
      "cell_type": "code",
      "metadata": {
        "colab": {
          "base_uri": "https://localhost:8080/",
          "height": 566
        },
        "id": "eaSNC_DOR4A-",
        "outputId": "9e51335b-f2e7-4abb-f5fc-466b87e44756"
      },
      "source": [
        "%%sql\n",
        "SELECT *\n",
        "  FROM survey\n",
        "  LIMIT 5"
      ],
      "execution_count": 11,
      "outputs": [
        {
          "output_type": "stream",
          "name": "stdout",
          "text": [
            " * sqlite://\n",
            "Done.\n"
          ]
        },
        {
          "output_type": "execute_result",
          "data": {
            "text/html": [
              "<table>\n",
              "    <thead>\n",
              "        <tr>\n",
              "            <th>index</th>\n",
              "            <th>timestamp</th>\n",
              "            <th>computer</th>\n",
              "            <th>phone</th>\n",
              "            <th>sports</th>\n",
              "            <th>degree</th>\n",
              "            <th>humor</th>\n",
              "            <th>R</th>\n",
              "            <th>SQL</th>\n",
              "            <th>Python</th>\n",
              "            <th>programming</th>\n",
              "            <th>queso</th>\n",
              "            <th>band</th>\n",
              "            <th>instructor</th>\n",
              "            <th>home</th>\n",
              "            <th>city</th>\n",
              "            <th>math</th>\n",
              "            <th>sleep</th>\n",
              "            <th>late</th>\n",
              "            <th>vegetarian</th>\n",
              "            <th>siblings</th>\n",
              "        </tr>\n",
              "    </thead>\n",
              "    <tbody>\n",
              "        <tr>\n",
              "            <td>0</td>\n",
              "            <td>2021/08/31 3:53:58 PM EST</td>\n",
              "            <td>Mac</td>\n",
              "            <td>Apple</td>\n",
              "            <td>No</td>\n",
              "            <td>Business</td>\n",
              "            <td>What?</td>\n",
              "            <td>No</td>\n",
              "            <td>No</td>\n",
              "            <td>No</td>\n",
              "            <td>Yes</td>\n",
              "            <td>Torchy&#x27;s</td>\n",
              "            <td>One Direction </td>\n",
              "            <td>5</td>\n",
              "            <td>In Texas</td>\n",
              "            <td>Austin</td>\n",
              "            <td>1</td>\n",
              "            <td>Less than five hours</td>\n",
              "            <td>2021-08-30</td>\n",
              "            <td>Yes</td>\n",
              "            <td>3</td>\n",
              "        </tr>\n",
              "        <tr>\n",
              "            <td>1</td>\n",
              "            <td>2021/08/31 3:54:03 PM EST</td>\n",
              "            <td>Windows PC</td>\n",
              "            <td>Apple</td>\n",
              "            <td>Yes</td>\n",
              "            <td>Advertising, communications</td>\n",
              "            <td>Yes</td>\n",
              "            <td>No</td>\n",
              "            <td>No</td>\n",
              "            <td>No</td>\n",
              "            <td>No</td>\n",
              "            <td>Torchy&#x27;s</td>\n",
              "            <td>Bandier</td>\n",
              "            <td>5</td>\n",
              "            <td>In Texas</td>\n",
              "            <td>nyc</td>\n",
              "            <td>2</td>\n",
              "            <td>Less than five hours</td>\n",
              "            <td>2021-08-30</td>\n",
              "            <td>No</td>\n",
              "            <td>2</td>\n",
              "        </tr>\n",
              "        <tr>\n",
              "            <td>2</td>\n",
              "            <td>2021/08/31 3:54:08 PM EST</td>\n",
              "            <td>Windows PC</td>\n",
              "            <td>Apple</td>\n",
              "            <td>Yes</td>\n",
              "            <td>Business</td>\n",
              "            <td>Yes</td>\n",
              "            <td>Yes</td>\n",
              "            <td>No</td>\n",
              "            <td>No</td>\n",
              "            <td>Yes</td>\n",
              "            <td>Torchy&#x27;s</td>\n",
              "            <td>Colony House</td>\n",
              "            <td>5</td>\n",
              "            <td>In Texas</td>\n",
              "            <td>Austin or Dallas</td>\n",
              "            <td>2</td>\n",
              "            <td>Between seven hours (inclusive) and eight hours (inclusive)</td>\n",
              "            <td>2021-08-28</td>\n",
              "            <td>No</td>\n",
              "            <td>1</td>\n",
              "        </tr>\n",
              "        <tr>\n",
              "            <td>3</td>\n",
              "            <td>2021/08/31 3:54:08 PM EST</td>\n",
              "            <td>Mac</td>\n",
              "            <td>Apple</td>\n",
              "            <td>Yes</td>\n",
              "            <td>Liberal arts (languages, history, etc)</td>\n",
              "            <td>Yes</td>\n",
              "            <td>No</td>\n",
              "            <td>No</td>\n",
              "            <td>No</td>\n",
              "            <td>No</td>\n",
              "            <td>Torchy&#x27;s</td>\n",
              "            <td>Fleetwood Mac</td>\n",
              "            <td>5</td>\n",
              "            <td>In the United States but not in Texas</td>\n",
              "            <td>NY or LA</td>\n",
              "            <td>2</td>\n",
              "            <td>Between six hours (inclusive) and seven hours (exclusive)</td>\n",
              "            <td>2021-08-30</td>\n",
              "            <td>No</td>\n",
              "            <td>1</td>\n",
              "        </tr>\n",
              "        <tr>\n",
              "            <td>4</td>\n",
              "            <td>2021/08/31 3:54:12 PM EST</td>\n",
              "            <td>Mac</td>\n",
              "            <td>Apple</td>\n",
              "            <td>Yes</td>\n",
              "            <td>Advertising, communications</td>\n",
              "            <td>Yes</td>\n",
              "            <td>No</td>\n",
              "            <td>No</td>\n",
              "            <td>No</td>\n",
              "            <td>No</td>\n",
              "            <td>Torchy&#x27;s</td>\n",
              "            <td>Black Eyed Peas</td>\n",
              "            <td>5</td>\n",
              "            <td>In Texas</td>\n",
              "            <td>Los Angeles</td>\n",
              "            <td>2</td>\n",
              "            <td>Between seven hours (inclusive) and eight hours (inclusive)</td>\n",
              "            <td>2021-08-28</td>\n",
              "            <td>No</td>\n",
              "            <td>1</td>\n",
              "        </tr>\n",
              "    </tbody>\n",
              "</table>"
            ],
            "text/plain": [
              "[(0, '2021/08/31 3:53:58 PM EST', 'Mac', 'Apple', 'No', 'Business', 'What?', 'No', 'No', 'No', 'Yes', \"Torchy's\", 'One Direction ', 5, 'In Texas', 'Austin', 1, 'Less than five hours', '2021-08-30', 'Yes', 3),\n",
              " (1, '2021/08/31 3:54:03 PM EST', 'Windows PC', 'Apple', 'Yes', 'Advertising, communications', 'Yes', 'No', 'No', 'No', 'No', \"Torchy's\", 'Bandier', 5, 'In Texas', 'nyc', 2, 'Less than five hours', '2021-08-30', 'No', 2),\n",
              " (2, '2021/08/31 3:54:08 PM EST', 'Windows PC', 'Apple', 'Yes', 'Business', 'Yes', 'Yes', 'No', 'No', 'Yes', \"Torchy's\", 'Colony House', 5, 'In Texas', 'Austin or Dallas', 2, 'Between seven hours (inclusive) and eight hours (inclusive)', '2021-08-28', 'No', 1),\n",
              " (3, '2021/08/31 3:54:08 PM EST', 'Mac', 'Apple', 'Yes', 'Liberal arts (languages, history, etc)', 'Yes', 'No', 'No', 'No', 'No', \"Torchy's\", 'Fleetwood Mac', 5, 'In the United States but not in Texas', 'NY or LA', 2, 'Between six hours (inclusive) and seven hours (exclusive)', '2021-08-30', 'No', 1),\n",
              " (4, '2021/08/31 3:54:12 PM EST', 'Mac', 'Apple', 'Yes', 'Advertising, communications', 'Yes', 'No', 'No', 'No', 'No', \"Torchy's\", 'Black Eyed Peas', 5, 'In Texas', 'Los Angeles', 2, 'Between seven hours (inclusive) and eight hours (inclusive)', '2021-08-28', 'No', 1)]"
            ]
          },
          "metadata": {},
          "execution_count": 11
        }
      ]
    },
    {
      "cell_type": "markdown",
      "metadata": {
        "id": "3gmFhFzcrUuH"
      },
      "source": [
        "## Problem 1"
      ]
    },
    {
      "cell_type": "markdown",
      "metadata": {
        "id": "PAnc7ny8rhuo"
      },
      "source": [
        "Write a SQL query that shows the top three `siblings` values (in descending order). "
      ]
    },
    {
      "cell_type": "code",
      "metadata": {
        "id": "BArZbWWRrf_W",
        "colab": {
          "base_uri": "https://localhost:8080/",
          "height": 139
        },
        "outputId": "4bb69c4a-567f-49ee-fd62-44565b809cc6"
      },
      "source": [
        "%%sql\n",
        "SELECT siblings\n",
        "FROM survey\n",
        "ORDER BY siblings DESC\n",
        "LIMIT 3"
      ],
      "execution_count": 26,
      "outputs": [
        {
          "output_type": "stream",
          "name": "stdout",
          "text": [
            " * sqlite://\n",
            "Done.\n"
          ]
        },
        {
          "output_type": "execute_result",
          "data": {
            "text/html": [
              "<table>\n",
              "    <thead>\n",
              "        <tr>\n",
              "            <th>siblings</th>\n",
              "        </tr>\n",
              "    </thead>\n",
              "    <tbody>\n",
              "        <tr>\n",
              "            <td>6</td>\n",
              "        </tr>\n",
              "        <tr>\n",
              "            <td>4</td>\n",
              "        </tr>\n",
              "        <tr>\n",
              "            <td>4</td>\n",
              "        </tr>\n",
              "    </tbody>\n",
              "</table>"
            ],
            "text/plain": [
              "[(6,), (4,), (4,)]"
            ]
          },
          "metadata": {},
          "execution_count": 26
        }
      ]
    },
    {
      "cell_type": "markdown",
      "metadata": {
        "id": "JhXuC8PbrkU9"
      },
      "source": [
        "## Problem 2"
      ]
    },
    {
      "cell_type": "markdown",
      "metadata": {
        "id": "GCKLJks8rlvH"
      },
      "source": [
        "Write a SQL query that shows the number of survey responses by degree in descending order of those counts."
      ]
    },
    {
      "cell_type": "code",
      "metadata": {
        "id": "X9qWJPvqrlFO",
        "colab": {
          "base_uri": "https://localhost:8080/",
          "height": 225
        },
        "outputId": "17bf5055-4a8b-4b19-a3a5-2f1c62bbf2a8"
      },
      "source": [
        "%%sql\n",
        "SELECT degree, COUNT(*) AS survey_resp\n",
        "  FROM survey\n",
        "  GROUP BY degree\n",
        "  ORDER BY survey_resp DESC"
      ],
      "execution_count": 10,
      "outputs": [
        {
          "output_type": "stream",
          "name": "stdout",
          "text": [
            " * sqlite://\n",
            "Done.\n"
          ]
        },
        {
          "output_type": "execute_result",
          "data": {
            "text/html": [
              "<table>\n",
              "    <thead>\n",
              "        <tr>\n",
              "            <th>degree</th>\n",
              "            <th>survey_resp</th>\n",
              "        </tr>\n",
              "    </thead>\n",
              "    <tbody>\n",
              "        <tr>\n",
              "            <td>Business</td>\n",
              "            <td>22</td>\n",
              "        </tr>\n",
              "        <tr>\n",
              "            <td>Advertising, communications</td>\n",
              "            <td>19</td>\n",
              "        </tr>\n",
              "        <tr>\n",
              "            <td>Science or math</td>\n",
              "            <td>6</td>\n",
              "        </tr>\n",
              "        <tr>\n",
              "            <td>Liberal arts (languages, history, etc)</td>\n",
              "            <td>4</td>\n",
              "        </tr>\n",
              "        <tr>\n",
              "            <td>None</td>\n",
              "            <td>1</td>\n",
              "        </tr>\n",
              "        <tr>\n",
              "            <td>Economics, policy, government</td>\n",
              "            <td>1</td>\n",
              "        </tr>\n",
              "        <tr>\n",
              "            <td>Engineering</td>\n",
              "            <td>1</td>\n",
              "        </tr>\n",
              "    </tbody>\n",
              "</table>"
            ],
            "text/plain": [
              "[('Business', 22),\n",
              " ('Advertising, communications', 19),\n",
              " ('Science or math', 6),\n",
              " ('Liberal arts (languages, history, etc)', 4),\n",
              " (None, 1),\n",
              " ('Economics, policy, government', 1),\n",
              " ('Engineering', 1)]"
            ]
          },
          "metadata": {},
          "execution_count": 10
        }
      ]
    },
    {
      "cell_type": "markdown",
      "metadata": {
        "id": "wJfFhwfJrqIo"
      },
      "source": [
        "## Problem 3"
      ]
    },
    {
      "cell_type": "markdown",
      "metadata": {
        "id": "6D1A89Odrsnu"
      },
      "source": [
        "Write a query that returns the mean instructor greatness responses by degree.  The data frame should be in descending order of mean greatness."
      ]
    },
    {
      "cell_type": "code",
      "metadata": {
        "id": "fd_dLF1JrrfF",
        "colab": {
          "base_uri": "https://localhost:8080/",
          "height": 225
        },
        "outputId": "a92ae554-6bf8-448d-8c5e-1fc4e47f7d23"
      },
      "source": [
        "%%sql\n",
        "SELECT degree, AVG(instructor) AS mean_instructor\n",
        "  FROM survey\n",
        "  GROUP BY degree\n",
        "  ORDER BY mean_instructor DESC"
      ],
      "execution_count": 12,
      "outputs": [
        {
          "output_type": "stream",
          "name": "stdout",
          "text": [
            " * sqlite://\n",
            "Done.\n"
          ]
        },
        {
          "output_type": "execute_result",
          "data": {
            "text/html": [
              "<table>\n",
              "    <thead>\n",
              "        <tr>\n",
              "            <th>degree</th>\n",
              "            <th>mean_instructor</th>\n",
              "        </tr>\n",
              "    </thead>\n",
              "    <tbody>\n",
              "        <tr>\n",
              "            <td>None</td>\n",
              "            <td>5.0</td>\n",
              "        </tr>\n",
              "        <tr>\n",
              "            <td>Economics, policy, government</td>\n",
              "            <td>5.0</td>\n",
              "        </tr>\n",
              "        <tr>\n",
              "            <td>Engineering</td>\n",
              "            <td>5.0</td>\n",
              "        </tr>\n",
              "        <tr>\n",
              "            <td>Liberal arts (languages, history, etc)</td>\n",
              "            <td>5.0</td>\n",
              "        </tr>\n",
              "        <tr>\n",
              "            <td>Science or math</td>\n",
              "            <td>5.0</td>\n",
              "        </tr>\n",
              "        <tr>\n",
              "            <td>Advertising, communications</td>\n",
              "            <td>4.947368421052632</td>\n",
              "        </tr>\n",
              "        <tr>\n",
              "            <td>Business</td>\n",
              "            <td>4.863636363636363</td>\n",
              "        </tr>\n",
              "    </tbody>\n",
              "</table>"
            ],
            "text/plain": [
              "[(None, 5.0),\n",
              " ('Economics, policy, government', 5.0),\n",
              " ('Engineering', 5.0),\n",
              " ('Liberal arts (languages, history, etc)', 5.0),\n",
              " ('Science or math', 5.0),\n",
              " ('Advertising, communications', 4.947368421052632),\n",
              " ('Business', 4.863636363636363)]"
            ]
          },
          "metadata": {},
          "execution_count": 12
        }
      ]
    },
    {
      "cell_type": "markdown",
      "metadata": {
        "id": "Oy2OtMYqrwPM"
      },
      "source": [
        "## Problem 4"
      ]
    },
    {
      "cell_type": "markdown",
      "metadata": {
        "id": "G0N8EJU0rxtg"
      },
      "source": [
        "Another query: For Business majors, the count of responses by computer type.\n"
      ]
    },
    {
      "cell_type": "code",
      "metadata": {
        "id": "aTc0BQYFwq0n",
        "colab": {
          "base_uri": "https://localhost:8080/",
          "height": 118
        },
        "outputId": "2112c38e-45fd-40a8-d7aa-6d02a4131ac2"
      },
      "source": [
        "%%sql\n",
        "SELECT computer, COUNT(computer) AS resp_count\n",
        "  FROM survey\n",
        "  WHERE degree = 'Business'\n",
        "  GROUP BY computer\n",
        "  ORDER BY resp_count DESC"
      ],
      "execution_count": 27,
      "outputs": [
        {
          "output_type": "stream",
          "name": "stdout",
          "text": [
            " * sqlite://\n",
            "Done.\n"
          ]
        },
        {
          "output_type": "execute_result",
          "data": {
            "text/html": [
              "<table>\n",
              "    <thead>\n",
              "        <tr>\n",
              "            <th>computer</th>\n",
              "            <th>resp_count</th>\n",
              "        </tr>\n",
              "    </thead>\n",
              "    <tbody>\n",
              "        <tr>\n",
              "            <td>Mac</td>\n",
              "            <td>11</td>\n",
              "        </tr>\n",
              "        <tr>\n",
              "            <td>Windows PC</td>\n",
              "            <td>11</td>\n",
              "        </tr>\n",
              "    </tbody>\n",
              "</table>"
            ],
            "text/plain": [
              "[('Mac', 11), ('Windows PC', 11)]"
            ]
          },
          "metadata": {},
          "execution_count": 27
        }
      ]
    },
    {
      "cell_type": "markdown",
      "metadata": {
        "id": "nWVdPITbr3Hw"
      },
      "source": [
        "## Problem 5"
      ]
    },
    {
      "cell_type": "markdown",
      "metadata": {
        "id": "RrKbDLcwr5n-"
      },
      "source": [
        "Another query: For Business majors with Macs, the mean number of siblings by queso."
      ]
    },
    {
      "cell_type": "code",
      "metadata": {
        "id": "k5Z00vZirw-e",
        "colab": {
          "base_uri": "https://localhost:8080/",
          "height": 118
        },
        "outputId": "aa3616a7-526a-45cb-e546-09c0d38ba33c"
      },
      "source": [
        "%%sql\n",
        "SELECT queso, AVG(siblings) AS mean_siblings\n",
        "  FROM survey\n",
        "  WHERE degree = 'Business' AND computer = 'Mac'\n",
        "  GROUP BY queso\n",
        "  ORDER BY mean_siblings desc"
      ],
      "execution_count": 20,
      "outputs": [
        {
          "output_type": "stream",
          "name": "stdout",
          "text": [
            " * sqlite://\n",
            "Done.\n"
          ]
        },
        {
          "output_type": "execute_result",
          "data": {
            "text/html": [
              "<table>\n",
              "    <thead>\n",
              "        <tr>\n",
              "            <th>queso</th>\n",
              "            <th>mean_siblings</th>\n",
              "        </tr>\n",
              "    </thead>\n",
              "    <tbody>\n",
              "        <tr>\n",
              "            <td>Kirby Lane&#x27;s</td>\n",
              "            <td>2.0</td>\n",
              "        </tr>\n",
              "        <tr>\n",
              "            <td>Torchy&#x27;s</td>\n",
              "            <td>2.6</td>\n",
              "        </tr>\n",
              "    </tbody>\n",
              "</table>"
            ],
            "text/plain": [
              "[(\"Kirby Lane's\", 2.0), (\"Torchy's\", 2.6)]"
            ]
          },
          "metadata": {},
          "execution_count": 20
        }
      ]
    },
    {
      "cell_type": "markdown",
      "metadata": {
        "id": "g45BWGl-Wp09"
      },
      "source": [
        ":"
      ]
    },
    {
      "cell_type": "markdown",
      "metadata": {
        "id": "oEcNXWqTr_Fe"
      },
      "source": [
        "## Problem 6"
      ]
    },
    {
      "cell_type": "markdown",
      "metadata": {
        "id": "BgOzklZFr-yQ"
      },
      "source": [
        "Consider a strange metric that is `math+instructor`. This metric, which of course is the\n",
        "sum of the \"how much you like math\" response and the \"how great is the instructor response\",\n",
        "might have tremendous predictive value. Let's investigate.\n",
        "\n",
        "Compute the mean value of this metric by `computer` value.\n"
      ]
    },
    {
      "cell_type": "code",
      "metadata": {
        "id": "qXNOXWY5sFmf",
        "colab": {
          "base_uri": "https://localhost:8080/",
          "height": 139
        },
        "outputId": "02f51f6a-58bc-427d-eea7-7d2869fec95c"
      },
      "source": [
        "%%sql\n",
        "SELECT computer, AVG(math + instructor) AS math_instructor\n",
        "FROM survey\n",
        "GROUP BY computer\n",
        "ORDER BY math_instructor desc"
      ],
      "execution_count": 21,
      "outputs": [
        {
          "output_type": "stream",
          "name": "stdout",
          "text": [
            " * sqlite://\n",
            "Done.\n"
          ]
        },
        {
          "output_type": "execute_result",
          "data": {
            "text/html": [
              "<table>\n",
              "    <thead>\n",
              "        <tr>\n",
              "            <th>computer</th>\n",
              "            <th>math_instructor</th>\n",
              "        </tr>\n",
              "    </thead>\n",
              "    <tbody>\n",
              "        <tr>\n",
              "            <td>Mac</td>\n",
              "            <td>8.085714285714285</td>\n",
              "        </tr>\n",
              "        <tr>\n",
              "            <td>Both PC and Mac</td>\n",
              "            <td>8.0</td>\n",
              "        </tr>\n",
              "        <tr>\n",
              "            <td>Windows PC</td>\n",
              "            <td>7.944444444444445</td>\n",
              "        </tr>\n",
              "    </tbody>\n",
              "</table>"
            ],
            "text/plain": [
              "[('Mac', 8.085714285714285),\n",
              " ('Both PC and Mac', 8.0),\n",
              " ('Windows PC', 7.944444444444445)]"
            ]
          },
          "metadata": {},
          "execution_count": 21
        }
      ]
    },
    {
      "cell_type": "markdown",
      "metadata": {
        "id": "0LYn0OnLsGe1"
      },
      "source": [
        "## Problem 7"
      ]
    },
    {
      "cell_type": "markdown",
      "metadata": {
        "id": "gsAjCVgKsI7m"
      },
      "source": [
        "Write a query that returns the maximum math+instructor score."
      ]
    },
    {
      "cell_type": "code",
      "metadata": {
        "id": "1tLJUiJ9sHqv",
        "colab": {
          "base_uri": "https://localhost:8080/",
          "height": 97
        },
        "outputId": "fa2d61d3-96a0-4267-9063-009a3a7f9f16"
      },
      "source": [
        "%%sql\n",
        "SELECT MAX(math + instructor) AS max_math_instructor\n",
        "FROM survey\n",
        "ORDER BY max_math_instructor desc"
      ],
      "execution_count": 24,
      "outputs": [
        {
          "output_type": "stream",
          "name": "stdout",
          "text": [
            " * sqlite://\n",
            "Done.\n"
          ]
        },
        {
          "output_type": "execute_result",
          "data": {
            "text/html": [
              "<table>\n",
              "    <thead>\n",
              "        <tr>\n",
              "            <th>max_math_instructor</th>\n",
              "        </tr>\n",
              "    </thead>\n",
              "    <tbody>\n",
              "        <tr>\n",
              "            <td>10</td>\n",
              "        </tr>\n",
              "    </tbody>\n",
              "</table>"
            ],
            "text/plain": [
              "[(10,)]"
            ]
          },
          "metadata": {},
          "execution_count": 24
        }
      ]
    },
    {
      "cell_type": "markdown",
      "metadata": {
        "id": "_lmKs1XushZ4"
      },
      "source": [
        "## Problem 8"
      ]
    },
    {
      "cell_type": "markdown",
      "metadata": {
        "id": "NERiByzesi49"
      },
      "source": [
        "Another query: For responses reporting one or two siblings, count votes for each `queso`."
      ]
    },
    {
      "cell_type": "code",
      "metadata": {
        "id": "9mmw7DihsicY",
        "colab": {
          "base_uri": "https://localhost:8080/",
          "height": 139
        },
        "outputId": "11ad679d-f84c-4d2c-c2cd-8887a8d4520f"
      },
      "source": [
        "%%sql\n",
        "SELECT queso, COUNT(*) as count\n",
        "FROM survey\n",
        "WHERE siblings = 1 OR siblings = 2\n",
        "GROUP BY queso\n",
        "ORDER BY count DESC"
      ],
      "execution_count": 25,
      "outputs": [
        {
          "output_type": "stream",
          "name": "stdout",
          "text": [
            " * sqlite://\n",
            "Done.\n"
          ]
        },
        {
          "output_type": "execute_result",
          "data": {
            "text/html": [
              "<table>\n",
              "    <thead>\n",
              "        <tr>\n",
              "            <th>queso</th>\n",
              "            <th>count</th>\n",
              "        </tr>\n",
              "    </thead>\n",
              "    <tbody>\n",
              "        <tr>\n",
              "            <td>Torchy&#x27;s</td>\n",
              "            <td>31</td>\n",
              "        </tr>\n",
              "        <tr>\n",
              "            <td>Kirby Lane&#x27;s</td>\n",
              "            <td>8</td>\n",
              "        </tr>\n",
              "        <tr>\n",
              "            <td>None</td>\n",
              "            <td>1</td>\n",
              "        </tr>\n",
              "    </tbody>\n",
              "</table>"
            ],
            "text/plain": [
              "[(\"Torchy's\", 31), (\"Kirby Lane's\", 8), (None, 1)]"
            ]
          },
          "metadata": {},
          "execution_count": 25
        }
      ]
    }
  ]
}